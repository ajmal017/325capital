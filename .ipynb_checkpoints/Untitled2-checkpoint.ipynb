{
 "cells": [
  {
   "cell_type": "code",
   "execution_count": 41,
   "metadata": {},
   "outputs": [],
   "source": [
    "import pandas as pd\n",
    "import matplotlib.pyplot as plt\n",
    "import itertools\n",
    "\n"
   ]
  },
  {
   "cell_type": "code",
   "execution_count": 42,
   "metadata": {},
   "outputs": [],
   "source": [
    "from screen1 import *"
   ]
  },
  {
   "cell_type": "code",
   "execution_count": 43,
   "metadata": {},
   "outputs": [
    {
     "name": "stdout",
     "output_type": "stream",
     "text": [
      "read the data ['fscore.xlsx']\n"
     ]
    }
   ],
   "source": [
    "filenames = ['fscore.xlsx']\n",
    "sheets = {'Sheet1': [0, 'A:DL', 1606]}\n",
    "df = getasheet(filenames, sheets, 'ticker')"
   ]
  },
  {
   "cell_type": "code",
   "execution_count": 44,
   "metadata": {},
   "outputs": [
    {
     "data": {
      "text/html": [
       "<div>\n",
       "<style scoped>\n",
       "    .dataframe tbody tr th:only-of-type {\n",
       "        vertical-align: middle;\n",
       "    }\n",
       "\n",
       "    .dataframe tbody tr th {\n",
       "        vertical-align: top;\n",
       "    }\n",
       "\n",
       "    .dataframe thead th {\n",
       "        text-align: right;\n",
       "    }\n",
       "</style>\n",
       "<table border=\"1\" class=\"dataframe\">\n",
       "  <thead>\n",
       "    <tr style=\"text-align: right;\">\n",
       "      <th></th>\n",
       "      <th>VALUATION_test</th>\n",
       "      <th>SBM_test</th>\n",
       "      <th>PUOC_test</th>\n",
       "      <th>TRADE_test</th>\n",
       "    </tr>\n",
       "  </thead>\n",
       "  <tbody>\n",
       "    <tr>\n",
       "      <th>count</th>\n",
       "      <td>1606.000000</td>\n",
       "      <td>1606.000000</td>\n",
       "      <td>1606.000000</td>\n",
       "      <td>1606.000000</td>\n",
       "    </tr>\n",
       "    <tr>\n",
       "      <th>mean</th>\n",
       "      <td>0.529888</td>\n",
       "      <td>0.311488</td>\n",
       "      <td>0.268784</td>\n",
       "      <td>0.255293</td>\n",
       "    </tr>\n",
       "    <tr>\n",
       "      <th>std</th>\n",
       "      <td>0.197700</td>\n",
       "      <td>0.197418</td>\n",
       "      <td>0.117675</td>\n",
       "      <td>0.118392</td>\n",
       "    </tr>\n",
       "    <tr>\n",
       "      <th>min</th>\n",
       "      <td>0.000000</td>\n",
       "      <td>0.000000</td>\n",
       "      <td>0.000000</td>\n",
       "      <td>0.000000</td>\n",
       "    </tr>\n",
       "    <tr>\n",
       "      <th>25%</th>\n",
       "      <td>0.333333</td>\n",
       "      <td>0.125000</td>\n",
       "      <td>0.166667</td>\n",
       "      <td>0.166667</td>\n",
       "    </tr>\n",
       "    <tr>\n",
       "      <th>50%</th>\n",
       "      <td>0.666667</td>\n",
       "      <td>0.250000</td>\n",
       "      <td>0.250000</td>\n",
       "      <td>0.166667</td>\n",
       "    </tr>\n",
       "    <tr>\n",
       "      <th>75%</th>\n",
       "      <td>0.666667</td>\n",
       "      <td>0.500000</td>\n",
       "      <td>0.333333</td>\n",
       "      <td>0.333333</td>\n",
       "    </tr>\n",
       "    <tr>\n",
       "      <th>max</th>\n",
       "      <td>1.000000</td>\n",
       "      <td>0.875000</td>\n",
       "      <td>0.583333</td>\n",
       "      <td>0.666667</td>\n",
       "    </tr>\n",
       "  </tbody>\n",
       "</table>\n",
       "</div>"
      ],
      "text/plain": [
       "       VALUATION_test     SBM_test    PUOC_test   TRADE_test\n",
       "count     1606.000000  1606.000000  1606.000000  1606.000000\n",
       "mean         0.529888     0.311488     0.268784     0.255293\n",
       "std          0.197700     0.197418     0.117675     0.118392\n",
       "min          0.000000     0.000000     0.000000     0.000000\n",
       "25%          0.333333     0.125000     0.166667     0.166667\n",
       "50%          0.666667     0.250000     0.250000     0.166667\n",
       "75%          0.666667     0.500000     0.333333     0.333333\n",
       "max          1.000000     0.875000     0.583333     0.666667"
      ]
     },
     "execution_count": 44,
     "metadata": {},
     "output_type": "execute_result"
    }
   ],
   "source": [
    "df[['VALUATION_test', 'SBM_test', 'PUOC_test', 'TRADE_test']].describe()\n"
   ]
  },
  {
   "cell_type": "code",
   "execution_count": 45,
   "metadata": {},
   "outputs": [],
   "source": [
    "tval = df.VALUATION_test >= df.VALUATION_test.quantile(q = .75)\n",
    "tsbm = df.SBM_test >= df.SBM_test.quantile(q = .75)\n",
    "tpuoc = df.PUOC_test <= df.PUOC_test.quantile(q = .25)\n",
    "ttrade = df.TRADE_test <= df.TRADE_test.quantile( q = .25)"
   ]
  },
  {
   "cell_type": "code",
   "execution_count": 46,
   "metadata": {},
   "outputs": [],
   "source": [
    "top = df[tval & tsbm & tpuoc & ttrade]"
   ]
  },
  {
   "cell_type": "code",
   "execution_count": 50,
   "metadata": {},
   "outputs": [
    {
     "data": {
      "text/plain": [
       "{'Health Care Providers and Services': '#2C3E50',\n",
       " 'Machinery': '#5E832F',\n",
       " 'Electronic Equipment, Instruments and Components': '#C00000',\n",
       " 'Consumer Cyclical': '#E74C3C',\n",
       " 'Healthcare': '#3498DB',\n",
       " 'Real Estate': '#2980B9',\n",
       " 'Energy': '#ECF0F1',\n",
       " 'Biotechnology': '#FF9800',\n",
       " 'IT Services': '#F54F29',\n",
       " 'Commercial Services and Supplies': '#000000',\n",
       " 'Energy Equipment and Services': '#2C3E50',\n",
       " 'Industrials': '#5E832F',\n",
       " 'Textiles, Apparel and Luxury Goods': '#C00000',\n",
       " 'Financial Services': '#E74C3C',\n",
       " 'Technology': '#3498DB',\n",
       " 'Communication Services': '#2980B9'}"
      ]
     },
     "execution_count": 50,
     "metadata": {},
     "output_type": "execute_result"
    }
   ],
   "source": [
    "dict(zip(set(top.sector), itertools.cycle(palette325)))"
   ]
  },
  {
   "cell_type": "code",
   "execution_count": 52,
   "metadata": {},
   "outputs": [],
   "source": [
    "huepalette = dict(zip(set(top.sector), itertools.cycle(palette325)))"
   ]
  },
  {
   "cell_type": "code",
   "execution_count": null,
   "metadata": {},
   "outputs": [],
   "source": []
  },
  {
   "cell_type": "code",
   "execution_count": null,
   "metadata": {},
   "outputs": [],
   "source": []
  }
 ],
 "metadata": {
  "kernelspec": {
   "display_name": "Python 3",
   "language": "python",
   "name": "python3"
  },
  "language_info": {
   "codemirror_mode": {
    "name": "ipython",
    "version": 3
   },
   "file_extension": ".py",
   "mimetype": "text/x-python",
   "name": "python",
   "nbconvert_exporter": "python",
   "pygments_lexer": "ipython3",
   "version": "3.7.3"
  }
 },
 "nbformat": 4,
 "nbformat_minor": 2
}
